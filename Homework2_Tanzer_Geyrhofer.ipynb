{
 "cells": [
  {
   "cell_type": "markdown",
   "id": "237e6e09-2356-4022-8fc8-14d12baa9af2",
   "metadata": {},
   "source": [
    "# Profitability of a single PV system; Decline of revenues of a distribution system grid due to increased PV self-generation"
   ]
  },
  {
   "cell_type": "code",
   "execution_count": 1,
   "id": "642b8b36-bbaa-4083-aa60-a0325fab5002",
   "metadata": {},
   "outputs": [],
   "source": [
    "#given data\n",
    "#PV-system\n",
    "C_installed = 3 #kWp\n",
    "P_invest_spec = 800 #€/kWp\n",
    "lifetime = 25 #years\n",
    "P_invest = P_invest_spec*C_installed\n",
    "\n",
    "#electricity purchase and sale\n",
    "P_supply = 0.2 # €/kWh\n",
    "P_grid_var = 0.05 # €/kWh\n",
    "P_grid_fixed = 100 # €/a\n",
    "R_sales = 0.1 #€/kWh\n",
    "\n",
    "#profiles\n",
    "load_d = 5*0.5+1+1.5*3+2*2+3*2+2.5*2+2+1.5*2+2*2+1.5+0.5*3 #kWh\n",
    "load_a = load_d*365\n",
    "generation_d = 0.5*2+2+2.5*2+3*2+2.5*2+2+1.5+0.5 #kWh\n",
    "generation_a = generation_d*365\n",
    "#grid_d = 0.5*5+1+1.5+2*1+1.5+2+1.5+3*0.5 #kWh\n",
    "grid_d = 0.5*5+1+1.5+2*1+0.5+1.5+2+1.5+3*0.5 #kWh !!!Ausgebesserter Fehler!!!\n",
    "grid_a = grid_d*365\n",
    "overproduction_d = 0.5+0.5+0.5+0.5 #kWh\n",
    "overproduction_a = overproduction_d*365"
   ]
  },
  {
   "cell_type": "markdown",
   "id": "86f93074-2104-417a-87d8-d1aeca2f41ea",
   "metadata": {},
   "source": [
    "## a) Net Present Value"
   ]
  },
  {
   "cell_type": "code",
   "execution_count": 2,
   "id": "51d1b8f6-3203-4d32-b09f-2031d18d8338",
   "metadata": {},
   "outputs": [
    {
     "name": "stdout",
     "output_type": "stream",
     "text": [
      "Net Present Value over the entire technical lifetime of the PV system is -20785.55\n"
     ]
    }
   ],
   "source": [
    "AF = 0.070 #see table: 25 year, 5% interest rate)\n",
    "interest_rate = 0.05\n",
    "P_1 = (grid_a*P_supply)+(grid_a*P_grid_var)+P_grid_fixed\n",
    "R_1 = overproduction_a*R_sales\n",
    "\n",
    "# NPV for the PV-system\n",
    "npv_1 = -P_invest  \n",
    "\n",
    "for t in range (1, lifetime + 1):\n",
    "    npv_1 -= (P_1)/(1+interest_rate)**t\n",
    "    npv_1 += R_1/(1+interest_rate)**t\n",
    "\n",
    "\n",
    "print(\"Net Present Value over the entire technical lifetime of the PV system is\",round(npv_1,2))"
   ]
  },
  {
   "cell_type": "markdown",
   "id": "10f04838",
   "metadata": {},
   "source": []
  },
  {
   "cell_type": "code",
   "execution_count": 3,
   "id": "04433212-760c-4701-adb8-f030b24eca67",
   "metadata": {},
   "outputs": [
    {
     "name": "stdout",
     "output_type": "stream",
     "text": [
      "3293.75\n",
      "Net Present Value from pure electricity purchase with no pv installed is -46421.93\n",
      "Net Present Value from pure electricity purchase with pv installed is -36990.06\n"
     ]
    }
   ],
   "source": [
    "# NPV for purchase only\n",
    "P_2 = (load_a*P_supply)+(load_a*P_grid_var)+P_grid_fixed\n",
    "print(P_2)\n",
    "R_2 = 0\n",
    "\n",
    "npv_2 = -0  # no PV installed\n",
    "\n",
    "for t in range (1, lifetime + 1):\n",
    "    npv_2 -= P_2/(1+interest_rate)**t\n",
    "    npv_2 += R_2/(1+interest_rate)**t\n",
    "print(\"Net Present Value from pure electricity purchase with no pv installed is\",round(npv_2,2))\n",
    "\n",
    "P_2a = (load_a*P_supply)+(load_a*P_grid_var)+P_grid_fixed\n",
    "R_2a = generation_a*R_sales\n",
    "\n",
    "npv_2a = -P_invest  # no PV installed\n",
    "\n",
    "for t in range (1, lifetime + 1):\n",
    "    npv_2a -= P_2a/(1+interest_rate)**t\n",
    "    npv_2a += R_2a/(1+interest_rate)**t\n",
    "print(\"Net Present Value from pure electricity purchase with pv installed is\",round(npv_2a,2))"
   ]
  },
  {
   "cell_type": "code",
   "execution_count": 4,
   "id": "63a5f322-861f-4af7-befc-0d49d6700083",
   "metadata": {},
   "outputs": [
    {
     "name": "stdout",
     "output_type": "stream",
     "text": [
      "1377.5\n",
      "Net Present Value if there is no remuneration for surplus feed-in is -21814.41\n"
     ]
    }
   ],
   "source": [
    "# NPV with no remuneration for surplus feedin\n",
    "P_3 = (grid_a*P_supply)+(grid_a*P_grid_var)+P_grid_fixed\n",
    "print(P_3)\n",
    "R_3 = 0\n",
    "\n",
    "npv_3 = -P_invest\n",
    "\n",
    "for t in range (1, lifetime + 1):\n",
    "    npv_3 -= P_3/(1+interest_rate)**t\n",
    "    npv_3 += R_3/(1+interest_rate)**t\n",
    "print(\"Net Present Value if there is no remuneration for surplus feed-in is\",round(npv_3,2))"
   ]
  },
  {
   "cell_type": "markdown",
   "id": "9bb7d59e-7d0d-4396-831c-e0842cf34fca",
   "metadata": {},
   "source": [
    "#### Interpretation: With a PV-system the costs for electricity shrink to less than half of the original value. In this chase not getting any remuneration is barely affecting the calculation, meaning that most of the benefit is achivied by the self-consumption of generated energy."
   ]
  },
  {
   "cell_type": "markdown",
   "id": "194a3223-6d72-4a3c-b71b-9ad45094a62d",
   "metadata": {},
   "source": [
    "## b) Partial shading and financial compensation"
   ]
  },
  {
   "cell_type": "code",
   "execution_count": 5,
   "id": "0cef530e-4f03-4419-9a47-0bbcc6aa0a68",
   "metadata": {},
   "outputs": [],
   "source": [
    "#profiles:\n",
    "load_d_new = 5*0.5+1+1.5*3+2*2+3*2+2.5*2+2+1.5*2+2*2+1.5+0.5*3 #kWh\n",
    "load_a_new = load_d_new*365\n",
    "generation_d_new = 0.5+2+2.5*2+3*2+2.5*2+1+2*0.5 #kWh !!! Fehler ausgebessert!!!\n",
    "generation_a_new = generation_d_new*365\n",
    "grid_d_new = 0.5*5+1+1.5*2+1+0.5+0.5+1+1.5+2+1.5+0.5*3 #kWh !!! Fehler ausgebessert!!!\n",
    "grid_a_new = grid_d_new*365\n",
    "overproduction_d_new = 0.5+0.5+0.5+0.5 #kWh !!! Fehler ausgebessert!!!\n",
    "overproduction_a_new = overproduction_d_new*365"
   ]
  },
  {
   "cell_type": "code",
   "execution_count": 6,
   "id": "06caf2c5-fe40-4b44-9d42-90b7c44ed341",
   "metadata": {},
   "outputs": [
    {
     "name": "stdout",
     "output_type": "stream",
     "text": [
      "Net Present Value over the entire technical lifetime of the PV system is -23357.7\n",
      "Difference between a) and b) is 2572.14\n"
     ]
    }
   ],
   "source": [
    "P_new = (grid_a_new*P_supply)+(grid_a_new*P_grid_var)+P_grid_fixed\n",
    "R_new = overproduction_a_new*R_sales\n",
    "\n",
    "# NPV for the PV-system\n",
    "npv_new = -P_invest  # Initial investment cost\n",
    "\n",
    "for t in range (1, lifetime + 1):\n",
    "    npv_new -= P_new/(1+interest_rate)**t\n",
    "    npv_new += R_new/(1+interest_rate)**t\n",
    "\n",
    "print(\"Net Present Value over the entire technical lifetime of the PV system is\",round(npv_new,2))\n",
    "print(\"Difference between a) and b) is\",round((npv_1-npv_new),2))"
   ]
  },
  {
   "cell_type": "markdown",
   "id": "99e75a51-c381-489d-80a3-603d0a50373c",
   "metadata": {},
   "source": [
    "#### Interpretation: Comparing this to the situation in a) the system operator looses 2572.14 € in profit - which the property developer has to compensate."
   ]
  },
  {
   "cell_type": "markdown",
   "id": "2000d8ef",
   "metadata": {},
   "source": [
    "## c) Decline in reveneues for the grid operator for 1000 households"
   ]
  },
  {
   "cell_type": "code",
   "execution_count": 7,
   "id": "d645c2e7-c40a-4618-ae61-0513ba9e30f8",
   "metadata": {},
   "outputs": [
    {
     "name": "stdout",
     "output_type": "stream",
     "text": [
      "The decline of the distribution grid operator revenues is: 383250.0 €, \n",
      "in order to compensate the grid operator, the fixed grid tariff for 10000 households must be increased by 38.33 € ,  \n",
      "wich leads to a total of the fixed grid tariff of 138.32 €/a\n"
     ]
    }
   ],
   "source": [
    "load_a_1000ho = load_a*1000\n",
    "grid_a_1000ho = grid_a*1000\n",
    "\n",
    "revenue_nopv = load_a_1000ho*P_grid_var\n",
    "revenue_pv = grid_a_1000ho*P_grid_var\n",
    "\n",
    "revenue_dec = revenue_nopv-revenue_pv\n",
    "\n",
    "increase_fixed_grid_t = revenue_dec/10000\n",
    "\n",
    "print('The decline of the distribution grid operator revenues is:', round((revenue_dec),2), '€, \\nin order to compensate the grid operator, the fixed grid tariff for 10000 households must be increased by', round(increase_fixed_grid_t,2), '€ ,  \\nwich leads to a total of the fixed grid tariff of', round(P_grid_fixed + increase_fixed_grid_t,2),'€/a')\n",
    "\n"
   ]
  },
  {
   "cell_type": "markdown",
   "id": "b313a318",
   "metadata": {},
   "source": [
    "## d) Penalties for providing to much electricity in the grid"
   ]
  },
  {
   "cell_type": "code",
   "execution_count": 8,
   "id": "fb3bfd75",
   "metadata": {},
   "outputs": [
    {
     "name": "stdout",
     "output_type": "stream",
     "text": [
      "Net Present Value over the entire technical lifetime of the PV system with the penalty is -22194.95\n"
     ]
    }
   ],
   "source": [
    "load_d_pd = 0.5*5+1+1.5*3+2*2+2.5*3+2*2+1.5*2+ 2.5+3+2.5+1.5+2*0.5 #kwh\n",
    "generation_d_pd = 2*0.5+2+2*2.5+3+3.5+4+3+2.5+1.5+0.5 #kwh\n",
    "grid_d_pd = 0.5*5+1+1.5+2*1+2+3+2.5+1.5+2*0.5 #kwh\n",
    "overproduction_d_pd= 0.5+0.5+1+2+1+1 #kwh\n",
    "overproduction_d_pd_pen = 2 #kwh\n",
    "\n",
    "feedin_pen = 5 #€/kw\n",
    "\n",
    "load_a_pd = load_d * 355 + load_d_pd*10\n",
    "generation_a_pd = generation_d *355+ generation_d_pd *10\n",
    "grid_a_pd = grid_d * 355+ grid_d_pd * 10\n",
    "overproduction_a_pd = overproduction_d*355+overproduction_d_pd*10\n",
    "overproduction_a_pd_pen = overproduction_d_pd_pen *10\n",
    "\n",
    "P_pd = (grid_a*P_supply)+(grid_a*P_grid_var)+P_grid_fixed\n",
    "P_pen_pd = overproduction_a_pd_pen*feedin_pen\n",
    "R_pd = overproduction_a*R_sales\n",
    "\n",
    "# NPV for the PV-system\n",
    "npv_pd = -P_invest  \n",
    "\n",
    "for t in range (1, lifetime + 1):\n",
    "    npv_pd -= P_pd/(1+interest_rate)**t\n",
    "    npv_pd -= P_pen_pd/(1+interest_rate)**t\n",
    "    npv_pd += R_pd/(1+interest_rate)**t\n",
    "\n",
    "print(\"Net Present Value over the entire technical lifetime of the PV system with the penalty is\",round(npv_pd,2))"
   ]
  },
  {
   "cell_type": "markdown",
   "id": "f0e60378",
   "metadata": {},
   "source": [
    "As you can see the NPV is more negative in point d than in a! It would be recommended to increase the load in the the times where to much power is fed in the grid -> Higher self consumption.\n"
   ]
  }
 ],
 "metadata": {
  "kernelspec": {
   "display_name": "Python 3",
   "language": "python",
   "name": "python3"
  },
  "language_info": {
   "codemirror_mode": {
    "name": "ipython",
    "version": 3
   },
   "file_extension": ".py",
   "mimetype": "text/x-python",
   "name": "python",
   "nbconvert_exporter": "python",
   "pygments_lexer": "ipython3",
   "version": "3.11.9"
  }
 },
 "nbformat": 4,
 "nbformat_minor": 5
}
